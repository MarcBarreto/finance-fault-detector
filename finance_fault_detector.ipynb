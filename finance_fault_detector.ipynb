{
  "nbformat": 4,
  "nbformat_minor": 0,
  "metadata": {
    "colab": {
      "provenance": []
    },
    "kernelspec": {
      "name": "python3",
      "display_name": "Python 3"
    },
    "language_info": {
      "name": "python"
    }
  },
  "cells": [
    {
      "cell_type": "code",
      "execution_count": null,
      "metadata": {
        "colab": {
          "base_uri": "https://localhost:8080/"
        },
        "id": "32TkITosAIaR",
        "outputId": "d6d49f07-10f1-4857-9d41-2640cee04d6f"
      },
      "outputs": [
        {
          "output_type": "stream",
          "name": "stdout",
          "text": [
            "env: TF_CPP_MIN_LOG_LEVEL=3\n"
          ]
        }
      ],
      "source": [
        "%env TF_CPP_MIN_LOG_LEVEL=3"
      ]
    },
    {
      "cell_type": "code",
      "source": [
        "import sklearn\n",
        "import numpy as np\n",
        "import pandas as pd\n",
        "import tensorflow as tf\n",
        "import matplotlib.pyplot as plt\n",
        "from keras.utils import to_categorical\n",
        "from keras.models import Sequential\n",
        "from keras.layers import Dense\n",
        "from keras import Input\n",
        "from sklearn.model_selection import train_test_split\n",
        "from sklearn.pipeline import Pipeline\n",
        "from sklearn.base import BaseEstimator, TransformerMixin\n",
        "from sklearn.preprocessing import StandardScaler\n",
        "from sklearn import metrics\n",
        "import warnings"
      ],
      "metadata": {
        "id": "VUaVr33GAPdX"
      },
      "execution_count": null,
      "outputs": []
    },
    {
      "cell_type": "code",
      "source": [
        "warnings.filterwarnings('ignore')"
      ],
      "metadata": {
        "id": "cn6AU3VzAusf"
      },
      "execution_count": null,
      "outputs": []
    },
    {
      "cell_type": "markdown",
      "source": [
        "# **Loading Dataset**"
      ],
      "metadata": {
        "id": "jQl3z0ZTBk6j"
      }
    },
    {
      "cell_type": "code",
      "source": [
        "from google.colab import drive\n",
        "drive.mount('/content/drive')"
      ],
      "metadata": {
        "colab": {
          "base_uri": "https://localhost:8080/"
        },
        "id": "YHNSBwvhBp8s",
        "outputId": "35773c2b-a2fc-4ac0-f76e-9448e69cfb4a"
      },
      "execution_count": null,
      "outputs": [
        {
          "output_type": "stream",
          "name": "stdout",
          "text": [
            "Mounted at /content/drive\n"
          ]
        }
      ]
    },
    {
      "cell_type": "code",
      "source": [
        "df = pd.read_csv('/content/drive/MyDrive/Colab Notebooks/Cap13/dataset.csv')"
      ],
      "metadata": {
        "id": "lgT5zAHRBCsf"
      },
      "execution_count": null,
      "outputs": []
    },
    {
      "cell_type": "code",
      "source": [
        "df.shape"
      ],
      "metadata": {
        "colab": {
          "base_uri": "https://localhost:8080/"
        },
        "id": "duMg2vrGByHz",
        "outputId": "dae99cbe-d4ac-48f7-ac30-747ae9b676c6"
      },
      "execution_count": null,
      "outputs": [
        {
          "output_type": "execute_result",
          "data": {
            "text/plain": [
              "(9841, 51)"
            ]
          },
          "metadata": {},
          "execution_count": 6
        }
      ]
    },
    {
      "cell_type": "code",
      "source": [
        "df.head()"
      ],
      "metadata": {
        "colab": {
          "base_uri": "https://localhost:8080/",
          "height": 342
        },
        "id": "DR5EDDzcB0n9",
        "outputId": "fce7cf45-43f1-4421-fa87-5b7ba7fc207d"
      },
      "execution_count": null,
      "outputs": [
        {
          "output_type": "execute_result",
          "data": {
            "text/plain": [
              "   Unnamed: 0  Index                                     Address  FLAG  \\\n",
              "0           0      1  0x00009277775ac7d0d59eaad8fee3d10ac6c805e8     0   \n",
              "1           1      2  0x0002b44ddb1476db43c868bd494422ee4c136fed     0   \n",
              "2           2      3  0x0002bda54cb772d040f779e88eb453cac0daa244     0   \n",
              "3           3      4  0x00038e6ba2fd5c09aedb96697c8d7b8fa6632e5e     0   \n",
              "4           4      5  0x00062d1dd1afb6fb02540ddad9cdebfe568e0d89     0   \n",
              "\n",
              "   Avg min between sent tnx  Avg min between received tnx  \\\n",
              "0                    844.26                       1093.71   \n",
              "1                  12709.07                       2958.44   \n",
              "2                 246194.54                       2434.02   \n",
              "3                  10219.60                      15785.09   \n",
              "4                     36.61                      10707.77   \n",
              "\n",
              "   Time Diff between first and last (Mins)  Sent tnx  Received Tnx  \\\n",
              "0                                704785.63       721            89   \n",
              "1                               1218216.73        94             8   \n",
              "2                                516729.30         2            10   \n",
              "3                                397555.90        25             9   \n",
              "4                                382472.42      4598            20   \n",
              "\n",
              "   Number of Created Contracts  ...   ERC20 min val sent   ERC20 max val sent  \\\n",
              "0                            0  ...             0.000000         1.683100e+07   \n",
              "1                            0  ...             2.260809         2.260809e+00   \n",
              "2                            0  ...             0.000000         0.000000e+00   \n",
              "3                            0  ...           100.000000         9.029231e+03   \n",
              "4                            1  ...             0.000000         4.500000e+04   \n",
              "\n",
              "    ERC20 avg val sent   ERC20 min val sent contract  \\\n",
              "0        271779.920000                           0.0   \n",
              "1             2.260809                           0.0   \n",
              "2             0.000000                           0.0   \n",
              "3          3804.076893                           0.0   \n",
              "4         13726.659220                           0.0   \n",
              "\n",
              "    ERC20 max val sent contract   ERC20 avg val sent contract  \\\n",
              "0                           0.0                           0.0   \n",
              "1                           0.0                           0.0   \n",
              "2                           0.0                           0.0   \n",
              "3                           0.0                           0.0   \n",
              "4                           0.0                           0.0   \n",
              "\n",
              "    ERC20 uniq sent token name   ERC20 uniq rec token name  \\\n",
              "0                         39.0                        57.0   \n",
              "1                          1.0                         7.0   \n",
              "2                          0.0                         8.0   \n",
              "3                          1.0                        11.0   \n",
              "4                          6.0                        27.0   \n",
              "\n",
              "    ERC20 most sent token type   ERC20_most_rec_token_type  \n",
              "0                    Cofoundit                   Numeraire  \n",
              "1               Livepeer Token              Livepeer Token  \n",
              "2                          NaN                       XENON  \n",
              "3                       Raiden                       XENON  \n",
              "4                StatusNetwork                         EOS  \n",
              "\n",
              "[5 rows x 51 columns]"
            ],
            "text/html": [
              "\n",
              "  <div id=\"df-0dd9c771-623c-4638-a088-fb829657cbfb\" class=\"colab-df-container\">\n",
              "    <div>\n",
              "<style scoped>\n",
              "    .dataframe tbody tr th:only-of-type {\n",
              "        vertical-align: middle;\n",
              "    }\n",
              "\n",
              "    .dataframe tbody tr th {\n",
              "        vertical-align: top;\n",
              "    }\n",
              "\n",
              "    .dataframe thead th {\n",
              "        text-align: right;\n",
              "    }\n",
              "</style>\n",
              "<table border=\"1\" class=\"dataframe\">\n",
              "  <thead>\n",
              "    <tr style=\"text-align: right;\">\n",
              "      <th></th>\n",
              "      <th>Unnamed: 0</th>\n",
              "      <th>Index</th>\n",
              "      <th>Address</th>\n",
              "      <th>FLAG</th>\n",
              "      <th>Avg min between sent tnx</th>\n",
              "      <th>Avg min between received tnx</th>\n",
              "      <th>Time Diff between first and last (Mins)</th>\n",
              "      <th>Sent tnx</th>\n",
              "      <th>Received Tnx</th>\n",
              "      <th>Number of Created Contracts</th>\n",
              "      <th>...</th>\n",
              "      <th>ERC20 min val sent</th>\n",
              "      <th>ERC20 max val sent</th>\n",
              "      <th>ERC20 avg val sent</th>\n",
              "      <th>ERC20 min val sent contract</th>\n",
              "      <th>ERC20 max val sent contract</th>\n",
              "      <th>ERC20 avg val sent contract</th>\n",
              "      <th>ERC20 uniq sent token name</th>\n",
              "      <th>ERC20 uniq rec token name</th>\n",
              "      <th>ERC20 most sent token type</th>\n",
              "      <th>ERC20_most_rec_token_type</th>\n",
              "    </tr>\n",
              "  </thead>\n",
              "  <tbody>\n",
              "    <tr>\n",
              "      <th>0</th>\n",
              "      <td>0</td>\n",
              "      <td>1</td>\n",
              "      <td>0x00009277775ac7d0d59eaad8fee3d10ac6c805e8</td>\n",
              "      <td>0</td>\n",
              "      <td>844.26</td>\n",
              "      <td>1093.71</td>\n",
              "      <td>704785.63</td>\n",
              "      <td>721</td>\n",
              "      <td>89</td>\n",
              "      <td>0</td>\n",
              "      <td>...</td>\n",
              "      <td>0.000000</td>\n",
              "      <td>1.683100e+07</td>\n",
              "      <td>271779.920000</td>\n",
              "      <td>0.0</td>\n",
              "      <td>0.0</td>\n",
              "      <td>0.0</td>\n",
              "      <td>39.0</td>\n",
              "      <td>57.0</td>\n",
              "      <td>Cofoundit</td>\n",
              "      <td>Numeraire</td>\n",
              "    </tr>\n",
              "    <tr>\n",
              "      <th>1</th>\n",
              "      <td>1</td>\n",
              "      <td>2</td>\n",
              "      <td>0x0002b44ddb1476db43c868bd494422ee4c136fed</td>\n",
              "      <td>0</td>\n",
              "      <td>12709.07</td>\n",
              "      <td>2958.44</td>\n",
              "      <td>1218216.73</td>\n",
              "      <td>94</td>\n",
              "      <td>8</td>\n",
              "      <td>0</td>\n",
              "      <td>...</td>\n",
              "      <td>2.260809</td>\n",
              "      <td>2.260809e+00</td>\n",
              "      <td>2.260809</td>\n",
              "      <td>0.0</td>\n",
              "      <td>0.0</td>\n",
              "      <td>0.0</td>\n",
              "      <td>1.0</td>\n",
              "      <td>7.0</td>\n",
              "      <td>Livepeer Token</td>\n",
              "      <td>Livepeer Token</td>\n",
              "    </tr>\n",
              "    <tr>\n",
              "      <th>2</th>\n",
              "      <td>2</td>\n",
              "      <td>3</td>\n",
              "      <td>0x0002bda54cb772d040f779e88eb453cac0daa244</td>\n",
              "      <td>0</td>\n",
              "      <td>246194.54</td>\n",
              "      <td>2434.02</td>\n",
              "      <td>516729.30</td>\n",
              "      <td>2</td>\n",
              "      <td>10</td>\n",
              "      <td>0</td>\n",
              "      <td>...</td>\n",
              "      <td>0.000000</td>\n",
              "      <td>0.000000e+00</td>\n",
              "      <td>0.000000</td>\n",
              "      <td>0.0</td>\n",
              "      <td>0.0</td>\n",
              "      <td>0.0</td>\n",
              "      <td>0.0</td>\n",
              "      <td>8.0</td>\n",
              "      <td>NaN</td>\n",
              "      <td>XENON</td>\n",
              "    </tr>\n",
              "    <tr>\n",
              "      <th>3</th>\n",
              "      <td>3</td>\n",
              "      <td>4</td>\n",
              "      <td>0x00038e6ba2fd5c09aedb96697c8d7b8fa6632e5e</td>\n",
              "      <td>0</td>\n",
              "      <td>10219.60</td>\n",
              "      <td>15785.09</td>\n",
              "      <td>397555.90</td>\n",
              "      <td>25</td>\n",
              "      <td>9</td>\n",
              "      <td>0</td>\n",
              "      <td>...</td>\n",
              "      <td>100.000000</td>\n",
              "      <td>9.029231e+03</td>\n",
              "      <td>3804.076893</td>\n",
              "      <td>0.0</td>\n",
              "      <td>0.0</td>\n",
              "      <td>0.0</td>\n",
              "      <td>1.0</td>\n",
              "      <td>11.0</td>\n",
              "      <td>Raiden</td>\n",
              "      <td>XENON</td>\n",
              "    </tr>\n",
              "    <tr>\n",
              "      <th>4</th>\n",
              "      <td>4</td>\n",
              "      <td>5</td>\n",
              "      <td>0x00062d1dd1afb6fb02540ddad9cdebfe568e0d89</td>\n",
              "      <td>0</td>\n",
              "      <td>36.61</td>\n",
              "      <td>10707.77</td>\n",
              "      <td>382472.42</td>\n",
              "      <td>4598</td>\n",
              "      <td>20</td>\n",
              "      <td>1</td>\n",
              "      <td>...</td>\n",
              "      <td>0.000000</td>\n",
              "      <td>4.500000e+04</td>\n",
              "      <td>13726.659220</td>\n",
              "      <td>0.0</td>\n",
              "      <td>0.0</td>\n",
              "      <td>0.0</td>\n",
              "      <td>6.0</td>\n",
              "      <td>27.0</td>\n",
              "      <td>StatusNetwork</td>\n",
              "      <td>EOS</td>\n",
              "    </tr>\n",
              "  </tbody>\n",
              "</table>\n",
              "<p>5 rows × 51 columns</p>\n",
              "</div>\n",
              "    <div class=\"colab-df-buttons\">\n",
              "\n",
              "  <div class=\"colab-df-container\">\n",
              "    <button class=\"colab-df-convert\" onclick=\"convertToInteractive('df-0dd9c771-623c-4638-a088-fb829657cbfb')\"\n",
              "            title=\"Convert this dataframe to an interactive table.\"\n",
              "            style=\"display:none;\">\n",
              "\n",
              "  <svg xmlns=\"http://www.w3.org/2000/svg\" height=\"24px\" viewBox=\"0 -960 960 960\">\n",
              "    <path d=\"M120-120v-720h720v720H120Zm60-500h600v-160H180v160Zm220 220h160v-160H400v160Zm0 220h160v-160H400v160ZM180-400h160v-160H180v160Zm440 0h160v-160H620v160ZM180-180h160v-160H180v160Zm440 0h160v-160H620v160Z\"/>\n",
              "  </svg>\n",
              "    </button>\n",
              "\n",
              "  <style>\n",
              "    .colab-df-container {\n",
              "      display:flex;\n",
              "      gap: 12px;\n",
              "    }\n",
              "\n",
              "    .colab-df-convert {\n",
              "      background-color: #E8F0FE;\n",
              "      border: none;\n",
              "      border-radius: 50%;\n",
              "      cursor: pointer;\n",
              "      display: none;\n",
              "      fill: #1967D2;\n",
              "      height: 32px;\n",
              "      padding: 0 0 0 0;\n",
              "      width: 32px;\n",
              "    }\n",
              "\n",
              "    .colab-df-convert:hover {\n",
              "      background-color: #E2EBFA;\n",
              "      box-shadow: 0px 1px 2px rgba(60, 64, 67, 0.3), 0px 1px 3px 1px rgba(60, 64, 67, 0.15);\n",
              "      fill: #174EA6;\n",
              "    }\n",
              "\n",
              "    .colab-df-buttons div {\n",
              "      margin-bottom: 4px;\n",
              "    }\n",
              "\n",
              "    [theme=dark] .colab-df-convert {\n",
              "      background-color: #3B4455;\n",
              "      fill: #D2E3FC;\n",
              "    }\n",
              "\n",
              "    [theme=dark] .colab-df-convert:hover {\n",
              "      background-color: #434B5C;\n",
              "      box-shadow: 0px 1px 3px 1px rgba(0, 0, 0, 0.15);\n",
              "      filter: drop-shadow(0px 1px 2px rgba(0, 0, 0, 0.3));\n",
              "      fill: #FFFFFF;\n",
              "    }\n",
              "  </style>\n",
              "\n",
              "    <script>\n",
              "      const buttonEl =\n",
              "        document.querySelector('#df-0dd9c771-623c-4638-a088-fb829657cbfb button.colab-df-convert');\n",
              "      buttonEl.style.display =\n",
              "        google.colab.kernel.accessAllowed ? 'block' : 'none';\n",
              "\n",
              "      async function convertToInteractive(key) {\n",
              "        const element = document.querySelector('#df-0dd9c771-623c-4638-a088-fb829657cbfb');\n",
              "        const dataTable =\n",
              "          await google.colab.kernel.invokeFunction('convertToInteractive',\n",
              "                                                    [key], {});\n",
              "        if (!dataTable) return;\n",
              "\n",
              "        const docLinkHtml = 'Like what you see? Visit the ' +\n",
              "          '<a target=\"_blank\" href=https://colab.research.google.com/notebooks/data_table.ipynb>data table notebook</a>'\n",
              "          + ' to learn more about interactive tables.';\n",
              "        element.innerHTML = '';\n",
              "        dataTable['output_type'] = 'display_data';\n",
              "        await google.colab.output.renderOutput(dataTable, element);\n",
              "        const docLink = document.createElement('div');\n",
              "        docLink.innerHTML = docLinkHtml;\n",
              "        element.appendChild(docLink);\n",
              "      }\n",
              "    </script>\n",
              "  </div>\n",
              "\n",
              "\n",
              "<div id=\"df-af621474-7fdc-4c8d-acfb-895e40e9849d\">\n",
              "  <button class=\"colab-df-quickchart\" onclick=\"quickchart('df-af621474-7fdc-4c8d-acfb-895e40e9849d')\"\n",
              "            title=\"Suggest charts\"\n",
              "            style=\"display:none;\">\n",
              "\n",
              "<svg xmlns=\"http://www.w3.org/2000/svg\" height=\"24px\"viewBox=\"0 0 24 24\"\n",
              "     width=\"24px\">\n",
              "    <g>\n",
              "        <path d=\"M19 3H5c-1.1 0-2 .9-2 2v14c0 1.1.9 2 2 2h14c1.1 0 2-.9 2-2V5c0-1.1-.9-2-2-2zM9 17H7v-7h2v7zm4 0h-2V7h2v10zm4 0h-2v-4h2v4z\"/>\n",
              "    </g>\n",
              "</svg>\n",
              "  </button>\n",
              "\n",
              "<style>\n",
              "  .colab-df-quickchart {\n",
              "      --bg-color: #E8F0FE;\n",
              "      --fill-color: #1967D2;\n",
              "      --hover-bg-color: #E2EBFA;\n",
              "      --hover-fill-color: #174EA6;\n",
              "      --disabled-fill-color: #AAA;\n",
              "      --disabled-bg-color: #DDD;\n",
              "  }\n",
              "\n",
              "  [theme=dark] .colab-df-quickchart {\n",
              "      --bg-color: #3B4455;\n",
              "      --fill-color: #D2E3FC;\n",
              "      --hover-bg-color: #434B5C;\n",
              "      --hover-fill-color: #FFFFFF;\n",
              "      --disabled-bg-color: #3B4455;\n",
              "      --disabled-fill-color: #666;\n",
              "  }\n",
              "\n",
              "  .colab-df-quickchart {\n",
              "    background-color: var(--bg-color);\n",
              "    border: none;\n",
              "    border-radius: 50%;\n",
              "    cursor: pointer;\n",
              "    display: none;\n",
              "    fill: var(--fill-color);\n",
              "    height: 32px;\n",
              "    padding: 0;\n",
              "    width: 32px;\n",
              "  }\n",
              "\n",
              "  .colab-df-quickchart:hover {\n",
              "    background-color: var(--hover-bg-color);\n",
              "    box-shadow: 0 1px 2px rgba(60, 64, 67, 0.3), 0 1px 3px 1px rgba(60, 64, 67, 0.15);\n",
              "    fill: var(--button-hover-fill-color);\n",
              "  }\n",
              "\n",
              "  .colab-df-quickchart-complete:disabled,\n",
              "  .colab-df-quickchart-complete:disabled:hover {\n",
              "    background-color: var(--disabled-bg-color);\n",
              "    fill: var(--disabled-fill-color);\n",
              "    box-shadow: none;\n",
              "  }\n",
              "\n",
              "  .colab-df-spinner {\n",
              "    border: 2px solid var(--fill-color);\n",
              "    border-color: transparent;\n",
              "    border-bottom-color: var(--fill-color);\n",
              "    animation:\n",
              "      spin 1s steps(1) infinite;\n",
              "  }\n",
              "\n",
              "  @keyframes spin {\n",
              "    0% {\n",
              "      border-color: transparent;\n",
              "      border-bottom-color: var(--fill-color);\n",
              "      border-left-color: var(--fill-color);\n",
              "    }\n",
              "    20% {\n",
              "      border-color: transparent;\n",
              "      border-left-color: var(--fill-color);\n",
              "      border-top-color: var(--fill-color);\n",
              "    }\n",
              "    30% {\n",
              "      border-color: transparent;\n",
              "      border-left-color: var(--fill-color);\n",
              "      border-top-color: var(--fill-color);\n",
              "      border-right-color: var(--fill-color);\n",
              "    }\n",
              "    40% {\n",
              "      border-color: transparent;\n",
              "      border-right-color: var(--fill-color);\n",
              "      border-top-color: var(--fill-color);\n",
              "    }\n",
              "    60% {\n",
              "      border-color: transparent;\n",
              "      border-right-color: var(--fill-color);\n",
              "    }\n",
              "    80% {\n",
              "      border-color: transparent;\n",
              "      border-right-color: var(--fill-color);\n",
              "      border-bottom-color: var(--fill-color);\n",
              "    }\n",
              "    90% {\n",
              "      border-color: transparent;\n",
              "      border-bottom-color: var(--fill-color);\n",
              "    }\n",
              "  }\n",
              "</style>\n",
              "\n",
              "  <script>\n",
              "    async function quickchart(key) {\n",
              "      const quickchartButtonEl =\n",
              "        document.querySelector('#' + key + ' button');\n",
              "      quickchartButtonEl.disabled = true;  // To prevent multiple clicks.\n",
              "      quickchartButtonEl.classList.add('colab-df-spinner');\n",
              "      try {\n",
              "        const charts = await google.colab.kernel.invokeFunction(\n",
              "            'suggestCharts', [key], {});\n",
              "      } catch (error) {\n",
              "        console.error('Error during call to suggestCharts:', error);\n",
              "      }\n",
              "      quickchartButtonEl.classList.remove('colab-df-spinner');\n",
              "      quickchartButtonEl.classList.add('colab-df-quickchart-complete');\n",
              "    }\n",
              "    (() => {\n",
              "      let quickchartButtonEl =\n",
              "        document.querySelector('#df-af621474-7fdc-4c8d-acfb-895e40e9849d button');\n",
              "      quickchartButtonEl.style.display =\n",
              "        google.colab.kernel.accessAllowed ? 'block' : 'none';\n",
              "    })();\n",
              "  </script>\n",
              "</div>\n",
              "\n",
              "    </div>\n",
              "  </div>\n"
            ],
            "application/vnd.google.colaboratory.intrinsic+json": {
              "type": "dataframe",
              "variable_name": "df"
            }
          },
          "metadata": {},
          "execution_count": 7
        }
      ]
    },
    {
      "cell_type": "code",
      "source": [
        "df.FLAG.value_counts()"
      ],
      "metadata": {
        "colab": {
          "base_uri": "https://localhost:8080/"
        },
        "id": "NG_JWjDBB5OE",
        "outputId": "2dba87c5-f536-41fc-aa34-c1096f25d86d"
      },
      "execution_count": null,
      "outputs": [
        {
          "output_type": "execute_result",
          "data": {
            "text/plain": [
              "FLAG\n",
              "0    7662\n",
              "1    2179\n",
              "Name: count, dtype: int64"
            ]
          },
          "metadata": {},
          "execution_count": 8
        }
      ]
    },
    {
      "cell_type": "code",
      "source": [
        "df.info()"
      ],
      "metadata": {
        "colab": {
          "base_uri": "https://localhost:8080/"
        },
        "id": "aYuk2d4pCGkI",
        "outputId": "8e3a63f5-9f76-433b-a5dc-93ce9f9ad88b"
      },
      "execution_count": null,
      "outputs": [
        {
          "output_type": "stream",
          "name": "stdout",
          "text": [
            "<class 'pandas.core.frame.DataFrame'>\n",
            "RangeIndex: 9841 entries, 0 to 9840\n",
            "Data columns (total 51 columns):\n",
            " #   Column                                                Non-Null Count  Dtype  \n",
            "---  ------                                                --------------  -----  \n",
            " 0   Unnamed: 0                                            9841 non-null   int64  \n",
            " 1   Index                                                 9841 non-null   int64  \n",
            " 2   Address                                               9841 non-null   object \n",
            " 3   FLAG                                                  9841 non-null   int64  \n",
            " 4   Avg min between sent tnx                              9841 non-null   float64\n",
            " 5   Avg min between received tnx                          9841 non-null   float64\n",
            " 6   Time Diff between first and last (Mins)               9841 non-null   float64\n",
            " 7   Sent tnx                                              9841 non-null   int64  \n",
            " 8   Received Tnx                                          9841 non-null   int64  \n",
            " 9   Number of Created Contracts                           9841 non-null   int64  \n",
            " 10  Unique Received From Addresses                        9841 non-null   int64  \n",
            " 11  Unique Sent To Addresses                              9841 non-null   int64  \n",
            " 12  min value received                                    9841 non-null   float64\n",
            " 13  max value received                                    9841 non-null   float64\n",
            " 14  avg val received                                      9841 non-null   float64\n",
            " 15  min val sent                                          9841 non-null   float64\n",
            " 16  max val sent                                          9841 non-null   float64\n",
            " 17  avg val sent                                          9841 non-null   float64\n",
            " 18  min value sent to contract                            9841 non-null   float64\n",
            " 19  max val sent to contract                              9841 non-null   float64\n",
            " 20  avg value sent to contract                            9841 non-null   float64\n",
            " 21  total transactions (including tnx to create contract  9841 non-null   int64  \n",
            " 22  total Ether sent                                      9841 non-null   float64\n",
            " 23  total ether received                                  9841 non-null   float64\n",
            " 24  total ether sent contracts                            9841 non-null   float64\n",
            " 25  total ether balance                                   9841 non-null   float64\n",
            " 26   Total ERC20 tnxs                                     9012 non-null   float64\n",
            " 27   ERC20 total Ether received                           9012 non-null   float64\n",
            " 28   ERC20 total ether sent                               9012 non-null   float64\n",
            " 29   ERC20 total Ether sent contract                      9012 non-null   float64\n",
            " 30   ERC20 uniq sent addr                                 9012 non-null   float64\n",
            " 31   ERC20 uniq rec addr                                  9012 non-null   float64\n",
            " 32   ERC20 uniq sent addr.1                               9012 non-null   float64\n",
            " 33   ERC20 uniq rec contract addr                         9012 non-null   float64\n",
            " 34   ERC20 avg time between sent tnx                      9012 non-null   float64\n",
            " 35   ERC20 avg time between rec tnx                       9012 non-null   float64\n",
            " 36   ERC20 avg time between rec 2 tnx                     9012 non-null   float64\n",
            " 37   ERC20 avg time between contract tnx                  9012 non-null   float64\n",
            " 38   ERC20 min val rec                                    9012 non-null   float64\n",
            " 39   ERC20 max val rec                                    9012 non-null   float64\n",
            " 40   ERC20 avg val rec                                    9012 non-null   float64\n",
            " 41   ERC20 min val sent                                   9012 non-null   float64\n",
            " 42   ERC20 max val sent                                   9012 non-null   float64\n",
            " 43   ERC20 avg val sent                                   9012 non-null   float64\n",
            " 44   ERC20 min val sent contract                          9012 non-null   float64\n",
            " 45   ERC20 max val sent contract                          9012 non-null   float64\n",
            " 46   ERC20 avg val sent contract                          9012 non-null   float64\n",
            " 47   ERC20 uniq sent token name                           9012 non-null   float64\n",
            " 48   ERC20 uniq rec token name                            9012 non-null   float64\n",
            " 49   ERC20 most sent token type                           7144 non-null   object \n",
            " 50   ERC20_most_rec_token_type                            8970 non-null   object \n",
            "dtypes: float64(39), int64(9), object(3)\n",
            "memory usage: 3.8+ MB\n"
          ]
        }
      ]
    },
    {
      "cell_type": "markdown",
      "source": [
        "# **Data PreProcessing**"
      ],
      "metadata": {
        "id": "GVKBcGrHDfCZ"
      }
    },
    {
      "cell_type": "code",
      "source": [
        "df.columns = df.columns.str.lower()"
      ],
      "metadata": {
        "id": "Qsk3W3vwCJlb"
      },
      "execution_count": null,
      "outputs": []
    },
    {
      "cell_type": "code",
      "source": [
        "cols_to_drop = [' erc20 most sent token type',\n",
        "                ' erc20_most_rec_token_type',\n",
        "                'address',\n",
        "                'index',\n",
        "                'unnamed: 0']"
      ],
      "metadata": {
        "id": "FP6yWXK8DoHS"
      },
      "execution_count": null,
      "outputs": []
    },
    {
      "cell_type": "code",
      "source": [
        "features = [x for x in df.columns if (x != 'flag' and x not in cols_to_drop)]"
      ],
      "metadata": {
        "id": "qB7oxqM6HMbP"
      },
      "execution_count": null,
      "outputs": []
    },
    {
      "cell_type": "code",
      "source": [
        "features"
      ],
      "metadata": {
        "colab": {
          "base_uri": "https://localhost:8080/"
        },
        "id": "uY43lQ5THZro",
        "outputId": "af7b6e92-27b2-494e-f1fc-127eb9c32d2d"
      },
      "execution_count": null,
      "outputs": [
        {
          "output_type": "execute_result",
          "data": {
            "text/plain": [
              "['avg min between sent tnx',\n",
              " 'avg min between received tnx',\n",
              " 'time diff between first and last (mins)',\n",
              " 'sent tnx',\n",
              " 'received tnx',\n",
              " 'number of created contracts',\n",
              " 'unique received from addresses',\n",
              " 'unique sent to addresses',\n",
              " 'min value received',\n",
              " 'max value received ',\n",
              " 'avg val received',\n",
              " 'min val sent',\n",
              " 'max val sent',\n",
              " 'avg val sent',\n",
              " 'min value sent to contract',\n",
              " 'max val sent to contract',\n",
              " 'avg value sent to contract',\n",
              " 'total transactions (including tnx to create contract',\n",
              " 'total ether sent',\n",
              " 'total ether received',\n",
              " 'total ether sent contracts',\n",
              " 'total ether balance',\n",
              " ' total erc20 tnxs',\n",
              " ' erc20 total ether received',\n",
              " ' erc20 total ether sent',\n",
              " ' erc20 total ether sent contract',\n",
              " ' erc20 uniq sent addr',\n",
              " ' erc20 uniq rec addr',\n",
              " ' erc20 uniq sent addr.1',\n",
              " ' erc20 uniq rec contract addr',\n",
              " ' erc20 avg time between sent tnx',\n",
              " ' erc20 avg time between rec tnx',\n",
              " ' erc20 avg time between rec 2 tnx',\n",
              " ' erc20 avg time between contract tnx',\n",
              " ' erc20 min val rec',\n",
              " ' erc20 max val rec',\n",
              " ' erc20 avg val rec',\n",
              " ' erc20 min val sent',\n",
              " ' erc20 max val sent',\n",
              " ' erc20 avg val sent',\n",
              " ' erc20 min val sent contract',\n",
              " ' erc20 max val sent contract',\n",
              " ' erc20 avg val sent contract',\n",
              " ' erc20 uniq sent token name',\n",
              " ' erc20 uniq rec token name']"
            ]
          },
          "metadata": {},
          "execution_count": 23
        }
      ]
    },
    {
      "cell_type": "code",
      "source": [
        "unique_values = df.nunique()"
      ],
      "metadata": {
        "id": "AWR-JpFfHcF3"
      },
      "execution_count": null,
      "outputs": []
    },
    {
      "cell_type": "code",
      "source": [
        "unique_values"
      ],
      "metadata": {
        "colab": {
          "base_uri": "https://localhost:8080/"
        },
        "id": "cMtoN5wONeJe",
        "outputId": "55b0a633-5624-4045-90cd-acfc0fafa43c"
      },
      "execution_count": null,
      "outputs": [
        {
          "output_type": "execute_result",
          "data": {
            "text/plain": [
              "unnamed: 0                                              9841\n",
              "index                                                   4729\n",
              "address                                                 9816\n",
              "flag                                                       2\n",
              "avg min between sent tnx                                5013\n",
              "avg min between received tnx                            6223\n",
              "time diff between first and last (mins)                 7810\n",
              "sent tnx                                                 641\n",
              "received tnx                                             727\n",
              "number of created contracts                               20\n",
              "unique received from addresses                           256\n",
              "unique sent to addresses                                 258\n",
              "min value received                                      4589\n",
              "max value received                                      6302\n",
              "avg val received                                        6767\n",
              "min val sent                                            4719\n",
              "max val sent                                            6647\n",
              "avg val sent                                            5854\n",
              "min value sent to contract                                 3\n",
              "max val sent to contract                                   4\n",
              "avg value sent to contract                                 4\n",
              "total transactions (including tnx to create contract     897\n",
              "total ether sent                                        5868\n",
              "total ether received                                    6728\n",
              "total ether sent contracts                                 4\n",
              "total ether balance                                     5717\n",
              " total erc20 tnxs                                        300\n",
              " erc20 total ether received                             3460\n",
              " erc20 total ether sent                                 1415\n",
              " erc20 total ether sent contract                          29\n",
              " erc20 uniq sent addr                                    107\n",
              " erc20 uniq rec addr                                     147\n",
              " erc20 uniq sent addr.1                                    4\n",
              " erc20 uniq rec contract addr                            123\n",
              " erc20 avg time between sent tnx                           1\n",
              " erc20 avg time between rec tnx                            1\n",
              " erc20 avg time between rec 2 tnx                          1\n",
              " erc20 avg time between contract tnx                       1\n",
              " erc20 min val rec                                      1276\n",
              " erc20 max val rec                                      2647\n",
              " erc20 avg val rec                                      3380\n",
              " erc20 min val sent                                      476\n",
              " erc20 max val sent                                     1130\n",
              " erc20 avg val sent                                     1309\n",
              " erc20 min val sent contract                               1\n",
              " erc20 max val sent contract                               1\n",
              " erc20 avg val sent contract                               1\n",
              " erc20 uniq sent token name                               70\n",
              " erc20 uniq rec token name                               121\n",
              " erc20 most sent token type                              304\n",
              " erc20_most_rec_token_type                               466\n",
              "dtype: int64"
            ]
          },
          "metadata": {},
          "execution_count": 27
        }
      ]
    },
    {
      "cell_type": "code",
      "source": [
        "features = [x for x in features if unique_values[x] > 1]"
      ],
      "metadata": {
        "id": "r056NuHdHf3p"
      },
      "execution_count": null,
      "outputs": []
    }
  ]
}